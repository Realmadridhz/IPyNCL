{
 "cells": [
  {
   "cell_type": "code",
   "execution_count": 7,
   "metadata": {
    "collapsed": false
   },
   "outputs": [
    {
     "name": "stdout",
     "output_type": "stream",
     "text": [
      "\n"
     ]
    }
   ],
   "source": [
    "a=fspan(0,100,10)"
   ]
  },
  {
   "cell_type": "code",
   "execution_count": 8,
   "metadata": {
    "collapsed": false
   },
   "outputs": [
    {
     "name": "stdout",
     "output_type": "stream",
     "text": [
      "Variable: a\n",
      "Type: float\n",
      "Total Size: 40 bytes\n",
      "            10 values\n",
      "Number of Dimensions: 1\n",
      "Dimensions and sizes:\t[10]\n",
      "Coordinates: \n"
     ]
    }
   ],
   "source": [
    "printVarSummary(a)"
   ]
  },
  {
   "cell_type": "code",
   "execution_count": 9,
   "metadata": {
    "collapsed": false
   },
   "outputs": [
    {
     "name": "stdout",
     "output_type": "stream",
     "text": [
      "\u001b[m\n",
      "Variable: a\u001b[m\n",
      "Type: float\u001b[m\n",
      "Total Size: 40 bytes\u001b[m\n",
      "            10 values\u001b[m\n",
      "Number of Dimensions: 1\u001b[m\n",
      "Dimensions and sizes:   [10]\u001b[m\n",
      "Coordinates: \u001b[m\n",
      "(0)      0\u001b[m\n",
      "(1)     11.11111\u001b[m\n",
      "(2)     22.22222\u001b[m\n",
      "(3)     33.33333\u001b[m\n",
      "(4)     44.44444\u001b[m\n",
      "(5)     55.55556\u001b[m\n",
      "(6)     66.66666\u001b[m\n",
      "(7)     77.77778\u001b[m\n",
      "(8)     88.88889\u001b[m\n",
      "(9)     100\u001b[m\n"
     ]
    }
   ],
   "source": [
    "print(a)"
   ]
  },
  {
   "cell_type": "code",
   "execution_count": null,
   "metadata": {
    "collapsed": true
   },
   "outputs": [],
   "source": []
  }
 ],
 "metadata": {
  "kernelspec": {
   "display_name": "NCL",
   "language": "ncl",
   "name": "ncl_kernel"
  },
  "language_info": {
   "file_extension": ".ncl",
   "mimetype": "text/plain",
   "name": "ncl"
  }
 },
 "nbformat": 4,
 "nbformat_minor": 0
}
